{
 "cells": [
  {
   "cell_type": "code",
   "execution_count": 5,
   "metadata": {},
   "outputs": [
    {
     "name": "stdout",
     "output_type": "stream",
     "text": [
      "Clean text saved in clean_text\\clean_text_Criminal Justice and Police Act 2001 (c. 16).csv.\n",
      "Clean text saved in clean_text\\clean_text_Human Rights Act 1998 (c. 42).csv.\n",
      "Clean text saved in clean_text\\clean_text_Public Order Act 1986 (c. 64).csv.\n",
      "Clean text saved in clean_text\\clean_text_Public Order Act 2023 (c. 15).csv.\n",
      "Clean text saved in clean_text\\clean_text_Serious Organised Crime and Police Act 2005 (c. 15).csv.\n"
     ]
    }
   ],
   "source": [
    "from bs4 import BeautifulSoup\n",
    "import os\n",
    "import csv\n",
    "\n",
    "def remove_html_tags(text):\n",
    "    soup = BeautifulSoup(text, 'html.parser')\n",
    "    return soup.get_text()\n",
    "\n",
    "def read_html_file(file_path):\n",
    "    with open(file_path, 'r', encoding='utf-8') as file:\n",
    "        lines = file.readlines()\n",
    "    return lines\n",
    "\n",
    "folder_path = 'raw_html'  # Specify the folder path containing the HTML files\n",
    "\n",
    "output_folder = 'clean_text'  # Specify the folder where the clean text files will be saved\n",
    "os.makedirs(output_folder, exist_ok=True)  # Create the output folder if it doesn't exist\n",
    "\n",
    "html_files = os.listdir(folder_path)  # Get the list of HTML files in the folder\n",
    "\n",
    "for html_file in html_files:\n",
    "    html_file_path = os.path.join(folder_path, html_file)\n",
    "    lines = read_html_file(html_file_path)\n",
    "    html_text = ''.join(lines)  # Join the lines into a single string\n",
    "    clean_text = remove_html_tags(html_text)\n",
    "\n",
    "    # Extract the filename from the html_file_path\n",
    "    filename = os.path.splitext(html_file)[0]  # Extract the filename without extension\n",
    "    output_file_path = os.path.join(output_folder, f'clean_text_{filename}.csv')\n",
    "\n",
    "    with open(output_file_path, 'w', newline='', encoding='utf-8') as output_file:\n",
    "        writer = csv.writer(output_file)\n",
    "        for line in clean_text.splitlines():\n",
    "            writer.writerow([line])\n",
    "\n",
    "    print(f\"Clean text saved in {output_file_path}.\")\n"
   ]
  },
  {
   "cell_type": "code",
   "execution_count": null,
   "metadata": {},
   "outputs": [],
   "source": []
  }
 ],
 "metadata": {
  "kernelspec": {
   "display_name": "Python 3",
   "language": "python",
   "name": "python3"
  },
  "language_info": {
   "codemirror_mode": {
    "name": "ipython",
    "version": 3
   },
   "file_extension": ".py",
   "mimetype": "text/x-python",
   "name": "python",
   "nbconvert_exporter": "python",
   "pygments_lexer": "ipython3",
   "version": "3.11.2"
  },
  "orig_nbformat": 4
 },
 "nbformat": 4,
 "nbformat_minor": 2
}
